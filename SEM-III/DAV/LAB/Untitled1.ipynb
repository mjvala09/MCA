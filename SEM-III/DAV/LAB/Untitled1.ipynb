{
 "cells": [
  {
   "cell_type": "code",
   "execution_count": 1,
   "id": "a02e34f4-8104-414a-88bf-4c25d86343de",
   "metadata": {},
   "outputs": [],
   "source": [
    "import pandas as pd\n",
    "import numpy as np"
   ]
  },
  {
   "cell_type": "code",
   "execution_count": 2,
   "id": "e861dd08-3fdb-4e71-9782-76f5e719e64b",
   "metadata": {},
   "outputs": [],
   "source": [
    "dict1 = {\n",
    "    1 : ['one','two','three','four','five'],\n",
    "    2 : [40,50,45,60,35],\n",
    "    3 : ['Rajkot','Porbandar','Somnath','Junagadh','Vadodara']\n",
    "}"
   ]
  },
  {
   "cell_type": "code",
   "execution_count": 3,
   "id": "46650ac7-e754-43c6-9c17-ed69805b7367",
   "metadata": {},
   "outputs": [
    {
     "data": {
      "text/plain": [
       "{1: ['one', 'two', 'three', 'four', 'five'],\n",
       " 2: [40, 50, 45, 60, 35],\n",
       " 3: ['Rajkot', 'Porbandar', 'Somnath', 'Junagadh', 'Vadodara']}"
      ]
     },
     "execution_count": 3,
     "metadata": {},
     "output_type": "execute_result"
    }
   ],
   "source": [
    "dict1"
   ]
  },
  {
   "cell_type": "code",
   "execution_count": 4,
   "id": "a9a629ef-1b2d-4c93-b332-91d8fb4f8695",
   "metadata": {},
   "outputs": [
    {
     "data": {
      "text/html": [
       "<div>\n",
       "<style scoped>\n",
       "    .dataframe tbody tr th:only-of-type {\n",
       "        vertical-align: middle;\n",
       "    }\n",
       "\n",
       "    .dataframe tbody tr th {\n",
       "        vertical-align: top;\n",
       "    }\n",
       "\n",
       "    .dataframe thead th {\n",
       "        text-align: right;\n",
       "    }\n",
       "</style>\n",
       "<table border=\"1\" class=\"dataframe\">\n",
       "  <thead>\n",
       "    <tr style=\"text-align: right;\">\n",
       "      <th></th>\n",
       "      <th>1</th>\n",
       "      <th>2</th>\n",
       "      <th>3</th>\n",
       "    </tr>\n",
       "  </thead>\n",
       "  <tbody>\n",
       "    <tr>\n",
       "      <th>0</th>\n",
       "      <td>one</td>\n",
       "      <td>40</td>\n",
       "      <td>Rajkot</td>\n",
       "    </tr>\n",
       "    <tr>\n",
       "      <th>1</th>\n",
       "      <td>two</td>\n",
       "      <td>50</td>\n",
       "      <td>Porbandar</td>\n",
       "    </tr>\n",
       "    <tr>\n",
       "      <th>2</th>\n",
       "      <td>three</td>\n",
       "      <td>45</td>\n",
       "      <td>Somnath</td>\n",
       "    </tr>\n",
       "    <tr>\n",
       "      <th>3</th>\n",
       "      <td>four</td>\n",
       "      <td>60</td>\n",
       "      <td>Junagadh</td>\n",
       "    </tr>\n",
       "    <tr>\n",
       "      <th>4</th>\n",
       "      <td>five</td>\n",
       "      <td>35</td>\n",
       "      <td>Vadodara</td>\n",
       "    </tr>\n",
       "  </tbody>\n",
       "</table>\n",
       "</div>"
      ],
      "text/plain": [
       "       1   2          3\n",
       "0    one  40     Rajkot\n",
       "1    two  50  Porbandar\n",
       "2  three  45    Somnath\n",
       "3   four  60   Junagadh\n",
       "4   five  35   Vadodara"
      ]
     },
     "execution_count": 4,
     "metadata": {},
     "output_type": "execute_result"
    }
   ],
   "source": [
    "df = pd.DataFrame(dict1)\n",
    "df"
   ]
  },
  {
   "cell_type": "code",
   "execution_count": 5,
   "id": "57a3208a-c4e2-4447-b647-07849bbcabdb",
   "metadata": {},
   "outputs": [
    {
     "ename": "NameError",
     "evalue": "name 'ser' is not defined",
     "output_type": "error",
     "traceback": [
      "\u001b[1;31m---------------------------------------------------------------------------\u001b[0m",
      "\u001b[1;31mNameError\u001b[0m                                 Traceback (most recent call last)",
      "Cell \u001b[1;32mIn[5], line 1\u001b[0m\n\u001b[1;32m----> 1\u001b[0m \u001b[43mser\u001b[49m[\u001b[38;5;241m0\u001b[39m]\n",
      "\u001b[1;31mNameError\u001b[0m: name 'ser' is not defined"
     ]
    }
   ],
   "source": [
    "ser[0]"
   ]
  },
  {
   "cell_type": "code",
   "execution_count": null,
   "id": "a0a58964-ac79-429b-962f-c62d3ef7d6cb",
   "metadata": {},
   "outputs": [],
   "source": [
    "df[1].head(4)\n",
    "ser[0]"
   ]
  },
  {
   "cell_type": "code",
   "execution_count": 10,
   "id": "bedcef42-fc0f-4cd6-bb19-6f6524b0066c",
   "metadata": {},
   "outputs": [],
   "source": [
    "ser = pd.Series(np.random.rand(32))"
   ]
  },
  {
   "cell_type": "code",
   "execution_count": 11,
   "id": "8c1e5771-e851-43a0-ab7a-7fa60bfd1d38",
   "metadata": {},
   "outputs": [
    {
     "data": {
      "text/plain": [
       "0     0.851130\n",
       "1     0.442368\n",
       "2     0.665639\n",
       "3     0.694961\n",
       "4     0.915376\n",
       "5     0.062166\n",
       "6     0.537713\n",
       "7     0.416905\n",
       "8     0.400027\n",
       "9     0.738006\n",
       "10    0.487315\n",
       "11    0.692581\n",
       "12    0.543170\n",
       "13    0.635455\n",
       "14    0.406641\n",
       "15    0.002944\n",
       "16    0.385934\n",
       "17    0.732000\n",
       "18    0.882165\n",
       "19    0.468957\n",
       "20    0.096775\n",
       "21    0.803319\n",
       "22    0.594320\n",
       "23    0.099404\n",
       "24    0.464469\n",
       "25    0.889583\n",
       "26    0.037559\n",
       "27    0.341734\n",
       "28    0.700031\n",
       "29    0.051334\n",
       "30    0.770816\n",
       "31    0.930857\n",
       "dtype: float64"
      ]
     },
     "execution_count": 11,
     "metadata": {},
     "output_type": "execute_result"
    }
   ],
   "source": [
    "ser\n"
   ]
  },
  {
   "cell_type": "code",
   "execution_count": 12,
   "id": "e27ace9a-ea18-4865-81b7-68718c523269",
   "metadata": {},
   "outputs": [
    {
     "data": {
      "text/plain": [
       "pandas.core.series.Series"
      ]
     },
     "execution_count": 12,
     "metadata": {},
     "output_type": "execute_result"
    }
   ],
   "source": [
    "type(ser)"
   ]
  },
  {
   "cell_type": "code",
   "execution_count": 15,
   "id": "99e3c487-4a89-40af-abd9-8d8acd70c53b",
   "metadata": {},
   "outputs": [],
   "source": [
    "newdf = pd.DataFrame(np.random.rand(335,5), index=np.arange(335))"
   ]
  },
  {
   "cell_type": "code",
   "execution_count": 16,
   "id": "14518a4c-d5a2-4dbc-a11a-bc98f4e91e59",
   "metadata": {},
   "outputs": [
    {
     "data": {
      "text/plain": [
       "pandas.core.frame.DataFrame"
      ]
     },
     "execution_count": 16,
     "metadata": {},
     "output_type": "execute_result"
    }
   ],
   "source": [
    "type(newdf)"
   ]
  },
  {
   "cell_type": "code",
   "execution_count": 17,
   "id": "321f5a6b-4b6d-4670-9268-d7041cc16d93",
   "metadata": {},
   "outputs": [
    {
     "data": {
      "text/html": [
       "<div>\n",
       "<style scoped>\n",
       "    .dataframe tbody tr th:only-of-type {\n",
       "        vertical-align: middle;\n",
       "    }\n",
       "\n",
       "    .dataframe tbody tr th {\n",
       "        vertical-align: top;\n",
       "    }\n",
       "\n",
       "    .dataframe thead th {\n",
       "        text-align: right;\n",
       "    }\n",
       "</style>\n",
       "<table border=\"1\" class=\"dataframe\">\n",
       "  <thead>\n",
       "    <tr style=\"text-align: right;\">\n",
       "      <th></th>\n",
       "      <th>0</th>\n",
       "      <th>1</th>\n",
       "      <th>2</th>\n",
       "      <th>3</th>\n",
       "      <th>4</th>\n",
       "    </tr>\n",
       "  </thead>\n",
       "  <tbody>\n",
       "    <tr>\n",
       "      <th>count</th>\n",
       "      <td>335.000000</td>\n",
       "      <td>335.000000</td>\n",
       "      <td>335.000000</td>\n",
       "      <td>335.000000</td>\n",
       "      <td>335.000000</td>\n",
       "    </tr>\n",
       "    <tr>\n",
       "      <th>mean</th>\n",
       "      <td>0.505013</td>\n",
       "      <td>0.507708</td>\n",
       "      <td>0.487456</td>\n",
       "      <td>0.463208</td>\n",
       "      <td>0.507424</td>\n",
       "    </tr>\n",
       "    <tr>\n",
       "      <th>std</th>\n",
       "      <td>0.277666</td>\n",
       "      <td>0.282623</td>\n",
       "      <td>0.290979</td>\n",
       "      <td>0.298111</td>\n",
       "      <td>0.285856</td>\n",
       "    </tr>\n",
       "    <tr>\n",
       "      <th>min</th>\n",
       "      <td>0.000314</td>\n",
       "      <td>0.005505</td>\n",
       "      <td>0.001450</td>\n",
       "      <td>0.001647</td>\n",
       "      <td>0.000828</td>\n",
       "    </tr>\n",
       "    <tr>\n",
       "      <th>25%</th>\n",
       "      <td>0.264588</td>\n",
       "      <td>0.276948</td>\n",
       "      <td>0.249170</td>\n",
       "      <td>0.192942</td>\n",
       "      <td>0.247852</td>\n",
       "    </tr>\n",
       "    <tr>\n",
       "      <th>50%</th>\n",
       "      <td>0.521222</td>\n",
       "      <td>0.496840</td>\n",
       "      <td>0.468793</td>\n",
       "      <td>0.463181</td>\n",
       "      <td>0.531326</td>\n",
       "    </tr>\n",
       "    <tr>\n",
       "      <th>75%</th>\n",
       "      <td>0.724543</td>\n",
       "      <td>0.751571</td>\n",
       "      <td>0.737324</td>\n",
       "      <td>0.701307</td>\n",
       "      <td>0.747717</td>\n",
       "    </tr>\n",
       "    <tr>\n",
       "      <th>max</th>\n",
       "      <td>0.999455</td>\n",
       "      <td>0.990597</td>\n",
       "      <td>0.998432</td>\n",
       "      <td>0.980798</td>\n",
       "      <td>0.994939</td>\n",
       "    </tr>\n",
       "  </tbody>\n",
       "</table>\n",
       "</div>"
      ],
      "text/plain": [
       "                0           1           2           3           4\n",
       "count  335.000000  335.000000  335.000000  335.000000  335.000000\n",
       "mean     0.505013    0.507708    0.487456    0.463208    0.507424\n",
       "std      0.277666    0.282623    0.290979    0.298111    0.285856\n",
       "min      0.000314    0.005505    0.001450    0.001647    0.000828\n",
       "25%      0.264588    0.276948    0.249170    0.192942    0.247852\n",
       "50%      0.521222    0.496840    0.468793    0.463181    0.531326\n",
       "75%      0.724543    0.751571    0.737324    0.701307    0.747717\n",
       "max      0.999455    0.990597    0.998432    0.980798    0.994939"
      ]
     },
     "execution_count": 17,
     "metadata": {},
     "output_type": "execute_result"
    }
   ],
   "source": [
    "newdf.describe()"
   ]
  },
  {
   "cell_type": "code",
   "execution_count": 18,
   "id": "af787d8f-4310-42aa-af06-307badaa1c4c",
   "metadata": {},
   "outputs": [
    {
     "data": {
      "text/html": [
       "<div>\n",
       "<style scoped>\n",
       "    .dataframe tbody tr th:only-of-type {\n",
       "        vertical-align: middle;\n",
       "    }\n",
       "\n",
       "    .dataframe tbody tr th {\n",
       "        vertical-align: top;\n",
       "    }\n",
       "\n",
       "    .dataframe thead th {\n",
       "        text-align: right;\n",
       "    }\n",
       "</style>\n",
       "<table border=\"1\" class=\"dataframe\">\n",
       "  <thead>\n",
       "    <tr style=\"text-align: right;\">\n",
       "      <th></th>\n",
       "      <th>0</th>\n",
       "      <th>1</th>\n",
       "      <th>2</th>\n",
       "      <th>3</th>\n",
       "      <th>4</th>\n",
       "    </tr>\n",
       "  </thead>\n",
       "  <tbody>\n",
       "    <tr>\n",
       "      <th>0</th>\n",
       "      <td>0.284619</td>\n",
       "      <td>0.180486</td>\n",
       "      <td>0.242021</td>\n",
       "      <td>0.842397</td>\n",
       "      <td>0.282266</td>\n",
       "    </tr>\n",
       "    <tr>\n",
       "      <th>1</th>\n",
       "      <td>0.658973</td>\n",
       "      <td>0.597225</td>\n",
       "      <td>0.257948</td>\n",
       "      <td>0.341226</td>\n",
       "      <td>0.723835</td>\n",
       "    </tr>\n",
       "    <tr>\n",
       "      <th>2</th>\n",
       "      <td>0.499236</td>\n",
       "      <td>0.836383</td>\n",
       "      <td>0.506759</td>\n",
       "      <td>0.033596</td>\n",
       "      <td>0.046744</td>\n",
       "    </tr>\n",
       "    <tr>\n",
       "      <th>3</th>\n",
       "      <td>0.719318</td>\n",
       "      <td>0.330526</td>\n",
       "      <td>0.101267</td>\n",
       "      <td>0.106138</td>\n",
       "      <td>0.709337</td>\n",
       "    </tr>\n",
       "    <tr>\n",
       "      <th>4</th>\n",
       "      <td>0.128807</td>\n",
       "      <td>0.717850</td>\n",
       "      <td>0.973325</td>\n",
       "      <td>0.815362</td>\n",
       "      <td>0.935720</td>\n",
       "    </tr>\n",
       "  </tbody>\n",
       "</table>\n",
       "</div>"
      ],
      "text/plain": [
       "          0         1         2         3         4\n",
       "0  0.284619  0.180486  0.242021  0.842397  0.282266\n",
       "1  0.658973  0.597225  0.257948  0.341226  0.723835\n",
       "2  0.499236  0.836383  0.506759  0.033596  0.046744\n",
       "3  0.719318  0.330526  0.101267  0.106138  0.709337\n",
       "4  0.128807  0.717850  0.973325  0.815362  0.935720"
      ]
     },
     "execution_count": 18,
     "metadata": {},
     "output_type": "execute_result"
    }
   ],
   "source": [
    "newdf.head()"
   ]
  },
  {
   "cell_type": "code",
   "execution_count": 22,
   "id": "34c8ba4e-de4c-42db-a4b4-097882963b48",
   "metadata": {},
   "outputs": [
    {
     "data": {
      "text/plain": [
       "0    float64\n",
       "1    float64\n",
       "2    float64\n",
       "3    float64\n",
       "4    float64\n",
       "dtype: object"
      ]
     },
     "execution_count": 22,
     "metadata": {},
     "output_type": "execute_result"
    }
   ],
   "source": [
    "newdf.dtypes"
   ]
  },
  {
   "cell_type": "code",
   "execution_count": 23,
   "id": "800a9911-0334-4b30-b2c4-9f4efe42ae1b",
   "metadata": {},
   "outputs": [],
   "source": [
    "newdf[0][0] = \"python\""
   ]
  },
  {
   "cell_type": "code",
   "execution_count": 25,
   "id": "dc8d0411-6a5f-4eaf-bd88-259e0d6abe67",
   "metadata": {},
   "outputs": [
    {
     "data": {
      "text/html": [
       "<div>\n",
       "<style scoped>\n",
       "    .dataframe tbody tr th:only-of-type {\n",
       "        vertical-align: middle;\n",
       "    }\n",
       "\n",
       "    .dataframe tbody tr th {\n",
       "        vertical-align: top;\n",
       "    }\n",
       "\n",
       "    .dataframe thead th {\n",
       "        text-align: right;\n",
       "    }\n",
       "</style>\n",
       "<table border=\"1\" class=\"dataframe\">\n",
       "  <thead>\n",
       "    <tr style=\"text-align: right;\">\n",
       "      <th></th>\n",
       "      <th>0</th>\n",
       "      <th>1</th>\n",
       "      <th>2</th>\n",
       "      <th>3</th>\n",
       "      <th>4</th>\n",
       "    </tr>\n",
       "  </thead>\n",
       "  <tbody>\n",
       "    <tr>\n",
       "      <th>0</th>\n",
       "      <td>python</td>\n",
       "      <td>0.180486</td>\n",
       "      <td>0.242021</td>\n",
       "      <td>0.842397</td>\n",
       "      <td>0.282266</td>\n",
       "    </tr>\n",
       "    <tr>\n",
       "      <th>1</th>\n",
       "      <td>0.658973</td>\n",
       "      <td>0.597225</td>\n",
       "      <td>0.257948</td>\n",
       "      <td>0.341226</td>\n",
       "      <td>0.723835</td>\n",
       "    </tr>\n",
       "    <tr>\n",
       "      <th>2</th>\n",
       "      <td>0.499236</td>\n",
       "      <td>0.836383</td>\n",
       "      <td>0.506759</td>\n",
       "      <td>0.033596</td>\n",
       "      <td>0.046744</td>\n",
       "    </tr>\n",
       "    <tr>\n",
       "      <th>3</th>\n",
       "      <td>0.719318</td>\n",
       "      <td>0.330526</td>\n",
       "      <td>0.101267</td>\n",
       "      <td>0.106138</td>\n",
       "      <td>0.709337</td>\n",
       "    </tr>\n",
       "    <tr>\n",
       "      <th>4</th>\n",
       "      <td>0.128807</td>\n",
       "      <td>0.717850</td>\n",
       "      <td>0.973325</td>\n",
       "      <td>0.815362</td>\n",
       "      <td>0.935720</td>\n",
       "    </tr>\n",
       "  </tbody>\n",
       "</table>\n",
       "</div>"
      ],
      "text/plain": [
       "          0         1         2         3         4\n",
       "0    python  0.180486  0.242021  0.842397  0.282266\n",
       "1  0.658973  0.597225  0.257948  0.341226  0.723835\n",
       "2  0.499236  0.836383  0.506759  0.033596  0.046744\n",
       "3  0.719318  0.330526  0.101267  0.106138  0.709337\n",
       "4  0.128807  0.717850  0.973325  0.815362  0.935720"
      ]
     },
     "execution_count": 25,
     "metadata": {},
     "output_type": "execute_result"
    }
   ],
   "source": [
    " newdf.head()"
   ]
  },
  {
   "cell_type": "code",
   "execution_count": 26,
   "id": "2ec1d038-a254-4dda-85a1-9798622500dd",
   "metadata": {},
   "outputs": [
    {
     "data": {
      "text/plain": [
       "Index([  0,   1,   2,   3,   4,   5,   6,   7,   8,   9,\n",
       "       ...\n",
       "       325, 326, 327, 328, 329, 330, 331, 332, 333, 334],\n",
       "      dtype='int32', length=335)"
      ]
     },
     "execution_count": 26,
     "metadata": {},
     "output_type": "execute_result"
    }
   ],
   "source": [
    "newdf.index"
   ]
  },
  {
   "cell_type": "code",
   "execution_count": 28,
   "id": "aa47207d-4d95-43f5-b07b-1c6e1794af42",
   "metadata": {},
   "outputs": [
    {
     "data": {
      "text/plain": [
       "RangeIndex(start=0, stop=5, step=1)"
      ]
     },
     "execution_count": 28,
     "metadata": {},
     "output_type": "execute_result"
    }
   ],
   "source": [
    "newdf.columns"
   ]
  },
  {
   "cell_type": "code",
   "execution_count": null,
   "id": "d2a50bd2-365c-4f14-a875-a70ce5a97a67",
   "metadata": {},
   "outputs": [],
   "source": []
  },
  {
   "cell_type": "code",
   "execution_count": null,
   "id": "1b370d77-7981-4d5f-bc6c-ec1303b06c82",
   "metadata": {},
   "outputs": [],
   "source": []
  },
  {
   "cell_type": "code",
   "execution_count": null,
   "id": "7369e23d-735c-4e60-adf5-8f0c6763768c",
   "metadata": {},
   "outputs": [],
   "source": []
  }
 ],
 "metadata": {
  "kernelspec": {
   "display_name": "Python 3 (ipykernel)",
   "language": "python",
   "name": "python3"
  },
  "language_info": {
   "codemirror_mode": {
    "name": "ipython",
    "version": 3
   },
   "file_extension": ".py",
   "mimetype": "text/x-python",
   "name": "python",
   "nbconvert_exporter": "python",
   "pygments_lexer": "ipython3",
   "version": "3.11.2"
  }
 },
 "nbformat": 4,
 "nbformat_minor": 5
}
