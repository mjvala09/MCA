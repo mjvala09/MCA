{
 "cells": [
  {
   "cell_type": "code",
   "execution_count": 4,
   "metadata": {},
   "outputs": [],
   "source": [
    "import numpy as np\n",
    "from scipy.io.wavfile import write\n",
    "import json\n",
    "\n",
    "def synthesizer(freq, duration, amp = 1.0, samplingFreq = 44100):\n",
    "    t = np.linspace(0, duration, duration * samplingFreq)\n",
    "    \n",
    "    audio = amp * np.sin(2 * np.pi * freq * t)\n",
    "    \n",
    "    return audio.astype(np.int16)\n",
    "\n",
    "if __name__ == \"__main__\":\n",
    "    toneMapFile = \"../cookbook/Chapter07/tone_freq_map.json\"\n",
    "    \n",
    "    with open(toneMapFile, 'r') as f:\n",
    "        toneFreqMap = json.loads(f.read())\n",
    "        \n",
    "    inputTone = 'A'\n",
    "    duration = 2\n",
    "    amplitude = 10000\n",
    "    samplingFreq = 44100\n",
    "    \n",
    "    synthesizedTone = synthesizer(toneFreqMap[inputTone], duration, amplitude, samplingFreq)\n",
    "    write(\"synthesizedMusic.wav\", samplingFreq, synthesizedTone)\n",
    "    \n",
    "    "
   ]
  },
  {
   "cell_type": "code",
   "execution_count": null,
   "metadata": {},
   "outputs": [],
   "source": []
  }
 ],
 "metadata": {
  "kernelspec": {
   "display_name": "Python 3",
   "language": "python",
   "name": "python3"
  },
  "language_info": {
   "codemirror_mode": {
    "name": "ipython",
    "version": 3
   },
   "file_extension": ".py",
   "mimetype": "text/x-python",
   "name": "python",
   "nbconvert_exporter": "python",
   "pygments_lexer": "ipython3",
   "version": "3.11.2"
  }
 },
 "nbformat": 4,
 "nbformat_minor": 2
}
