{
 "cells": [
  {
   "cell_type": "markdown",
   "metadata": {},
   "source": [
    "# Data PreProcessing"
   ]
  },
  {
   "cell_type": "code",
   "execution_count": 3,
   "metadata": {},
   "outputs": [
    {
     "data": {
      "text/plain": [
       "array([[-4. ,  1.2,  3.4, -6.6,  8.8],\n",
       "       [ 8.9,  5.5, -7. , -3.2, -8.2],\n",
       "       [ 7.1, -6.4,  1.2, -8.6,  5.2],\n",
       "       [ 8.9,  6.2, -6.6, -4.2,  1.1],\n",
       "       [ 4.2, -2.1,  8.5,  4.3, -4.4]])"
      ]
     },
     "execution_count": 3,
     "metadata": {},
     "output_type": "execute_result"
    }
   ],
   "source": [
    "import sklearn.preprocessing as preprocessing\n",
    "import numpy as np\n",
    "data=np.array([[-4,1.2,3.4,-6.6,8.8],               \n",
    "               [8.9,5.5,-7.0,-3.2,-8.2],               \n",
    "               [7.1,-6.4,1.2,-8.6,5.2],               \n",
    "               [8.9,6.2,-6.6,-4.2,1.1],               \n",
    "               [4.2,-2.1,8.5,4.3,-4.4]]\n",
    "              )\n",
    "data "
   ]
  },
  {
   "cell_type": "markdown",
   "metadata": {},
   "source": [
    "### Standardize Data OR Mean Removel"
   ]
  },
  {
   "cell_type": "code",
   "execution_count": 4,
   "metadata": {},
   "outputs": [
    {
     "name": "stdout",
     "output_type": "stream",
     "text": [
      "[ 1.44328993e-16 -2.22044605e-17  0.00000000e+00 -1.33226763e-16\n",
      "  6.66133815e-17]\n",
      "[ 5.02  0.88 -0.1  -3.66  0.5 ]\n",
      "[1. 1. 1. 1. 1.]\n",
      "[4.82634437 4.72499735 5.96254979 4.40254472 6.18126201]\n"
     ]
    }
   ],
   "source": [
    "standardizedData = preprocessing.scale(data)\n",
    "print(standardizedData.mean(axis=0))\n",
    "print(data.mean(axis=0))\n",
    "print(standardizedData.std(axis=0))\n",
    "print(data.std(axis=0))"
   ]
  },
  {
   "cell_type": "markdown",
   "metadata": {},
   "source": [
    "### Scaling Data"
   ]
  },
  {
   "cell_type": "code",
   "execution_count": 6,
   "metadata": {},
   "outputs": [
    {
     "name": "stdout",
     "output_type": "stream",
     "text": [
      "[[0.         0.6031746  0.67096774 0.15503876 1.        ]\n",
      " [1.         0.94444444 0.         0.41860465 0.        ]\n",
      " [0.86046512 0.         0.52903226 0.         0.78823529]\n",
      " [1.         1.         0.02580645 0.34108527 0.54705882]\n",
      " [0.63565891 0.34126984 1.         1.         0.22352941]]\n"
     ]
    }
   ],
   "source": [
    "scaler = preprocessing.MinMaxScaler(feature_range=(0,1))\n",
    "scaled_data = scaler.fit_transform(data)\n",
    "print(scaled_data)"
   ]
  },
  {
   "cell_type": "markdown",
   "metadata": {},
   "source": [
    "### Normalize Data"
   ]
  },
  {
   "cell_type": "code",
   "execution_count": 10,
   "metadata": {},
   "outputs": [
    {
     "data": {
      "text/plain": [
       "array([[-0.16666667,  0.05      ,  0.14166667, -0.275     ,  0.36666667],\n",
       "       [ 0.27134146,  0.16768293, -0.21341463, -0.09756098, -0.25      ],\n",
       "       [ 0.24912281, -0.2245614 ,  0.04210526, -0.30175439,  0.18245614],\n",
       "       [ 0.32962963,  0.22962963, -0.24444444, -0.15555556,  0.04074074],\n",
       "       [ 0.1787234 , -0.0893617 ,  0.36170213,  0.18297872, -0.18723404]])"
      ]
     },
     "execution_count": 10,
     "metadata": {},
     "output_type": "execute_result"
    }
   ],
   "source": [
    "normalizedData = preprocessing.normalize(data,norm='l1')\n",
    "normalizedData"
   ]
  },
  {
   "cell_type": "markdown",
   "metadata": {},
   "source": [
    "### Binarization of Data"
   ]
  },
  {
   "cell_type": "code",
   "execution_count": 14,
   "metadata": {},
   "outputs": [
    {
     "data": {
      "text/plain": [
       "array([[0., 0., 0., 0., 1.],\n",
       "       [1., 1., 0., 0., 0.],\n",
       "       [1., 0., 0., 0., 1.],\n",
       "       [1., 1., 0., 0., 0.],\n",
       "       [1., 0., 1., 1., 0.]])"
      ]
     },
     "execution_count": 14,
     "metadata": {},
     "output_type": "execute_result"
    }
   ],
   "source": [
    "binarizedData = preprocessing.Binarizer(threshold=3.4).transform(data)\n",
    "binarizedData"
   ]
  },
  {
   "cell_type": "markdown",
   "metadata": {},
   "source": [
    "### Label Encoding"
   ]
  },
  {
   "cell_type": "code",
   "execution_count": 25,
   "metadata": {},
   "outputs": [
    {
     "name": "stdout",
     "output_type": "stream",
     "text": [
      "audi   -->   0\n",
      "ecco   -->   1\n",
      "maruti   -->   2\n"
     ]
    },
    {
     "data": {
      "text/plain": [
       "array([1, 2, 0])"
      ]
     },
     "execution_count": 25,
     "metadata": {},
     "output_type": "execute_result"
    }
   ],
   "source": [
    "data2 = np.array([\"audi\",\"maruti\",\"ecco\",\"audi\",\"maruti\",\"audi\"])\n",
    "encoder = preprocessing.LabelEncoder()\n",
    "encoder.fit(data2)\n",
    "\n",
    "for i, item in enumerate(encoder.classes_):\n",
    "    print(item , \"  -->  \" , i)\n",
    "    \n",
    "label = [\"ecco\",\"maruti\",\"audi\"]\n",
    "labels = encoder.transform(label)\n",
    "labels"
   ]
  },
  {
   "cell_type": "markdown",
   "metadata": {},
   "source": [
    "### OneHotEncoder"
   ]
  },
  {
   "cell_type": "code",
   "execution_count": 26,
   "metadata": {},
   "outputs": [
    {
     "data": {
      "text/plain": [
       "array([[1., 0., 0., 1., 0., 1., 0., 0., 0., 0., 1.],\n",
       "       [0., 1., 0., 0., 1., 0., 0., 0., 1., 1., 0.],\n",
       "       [0., 0., 1., 0., 1., 0., 1., 0., 0., 0., 1.],\n",
       "       [0., 1., 0., 1., 0., 0., 0., 1., 0., 1., 0.]])"
      ]
     },
     "execution_count": 26,
     "metadata": {},
     "output_type": "execute_result"
    }
   ],
   "source": [
    "data3 = [[0, 2, 1, 12], [1, 3, 5, 3], [2, 3, 2, 12], [1, 2, 4,3]]\n",
    "encoder = preprocessing.OneHotEncoder()\n",
    "encoder.fit(data3)\n",
    "encodedVector = encoder.transform(data3).toarray()\n",
    "encodedVector"
   ]
  }
 ],
 "metadata": {
  "kernelspec": {
   "display_name": "Python 3",
   "language": "python",
   "name": "python3"
  },
  "language_info": {
   "codemirror_mode": {
    "name": "ipython",
    "version": 3
   },
   "file_extension": ".py",
   "mimetype": "text/x-python",
   "name": "python",
   "nbconvert_exporter": "python",
   "pygments_lexer": "ipython3",
   "version": "3.11.2"
  }
 },
 "nbformat": 4,
 "nbformat_minor": 2
}
