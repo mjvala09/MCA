{
 "cells": [
  {
   "cell_type": "code",
   "execution_count": 1,
   "id": "9bd24c85-4430-48bb-93d5-fd37f06391aa",
   "metadata": {},
   "outputs": [],
   "source": [
    "import cv2\n",
    "import numpy as np"
   ]
  },
  {
   "cell_type": "code",
   "execution_count": 2,
   "id": "fd8cecf0-ad66-4e5b-9b54-30958023cb3a",
   "metadata": {},
   "outputs": [],
   "source": [
    "img1 = cv2.imread('flower.jpg')"
   ]
  },
  {
   "cell_type": "code",
   "execution_count": 3,
   "id": "f2e771a4-0833-40a9-a779-89ea1473d143",
   "metadata": {},
   "outputs": [],
   "source": [
    "img2 = cv2.imread('../images/flower.jpg', cv2.IMREAD_GRAYSCALE)"
   ]
  },
  {
   "cell_type": "code",
   "execution_count": 4,
   "id": "3bb62545-110d-4e78-b6cb-ea77058cd55b",
   "metadata": {},
   "outputs": [],
   "source": [
    "cv2.imshow('Flower1', cv2.resize(img1, (img1.shape[1] // 5, img1.shape[0] // 5)))"
   ]
  },
  {
   "cell_type": "code",
   "execution_count": 5,
   "id": "09b1373f-f6c2-4110-a634-195ebbfaaaf8",
   "metadata": {},
   "outputs": [],
   "source": [
    "cv2.imshow('Flower2', cv2.resize(img2, (img2.shape[1] // 5, img2.shape[0] // 5)))"
   ]
  },
  {
   "cell_type": "code",
   "execution_count": null,
   "id": "ad4672b3-7ef4-4440-974d-e12e0f131572",
   "metadata": {},
   "outputs": [],
   "source": []
  },
  {
   "cell_type": "markdown",
   "id": "f35f2954-84cc-4575-b5e3-9822e21923cb",
   "metadata": {},
   "source": [
    "#Blurring"
   ]
  },
  {
   "cell_type": "code",
   "execution_count": 6,
   "id": "a95e69e0-5850-4208-8d37-96189fc6384a",
   "metadata": {},
   "outputs": [],
   "source": [
    "img = cv2.imread(\"wooden.jpg\")"
   ]
  },
  {
   "cell_type": "code",
   "execution_count": 7,
   "id": "dd9b2f82-87b7-45bc-9a35-df7712dade4d",
   "metadata": {},
   "outputs": [],
   "source": [
    "for i in range(1,10,2):\n",
    "    result = cv2.blur(img, (i,i))\n",
    "    cv2.imshow(\"result\", result)"
   ]
  },
  {
   "cell_type": "code",
   "execution_count": 8,
   "id": "cb62c2dc-e91b-4ece-9ee1-d4a6b3b0d223",
   "metadata": {},
   "outputs": [],
   "source": [
    "for i in range(10):\n",
    "    img = cv2.imread('wooden.jpg')\n",
    "    kernal_identity = np.array([[0,0,0],[0,i,0],[0,0,0]])\n",
    "    img1 = cv2.filter2D(img, -1, kernal_identity)\n",
    "    cv2.imshow(\"identity\", img1)\n",
    "    cv2.imshow(\"img\",img)"
   ]
  },
  {
   "cell_type": "markdown",
   "id": "a6b32734-3ca2-4857-a399-318b342bc533",
   "metadata": {},
   "source": [
    "#Edge detection"
   ]
  },
  {
   "cell_type": "code",
   "execution_count": 9,
   "id": "10bff159-b9c5-43dc-8a94-317a2346a9cd",
   "metadata": {},
   "outputs": [],
   "source": [
    "img = cv2.imread(\"intersect.png\")"
   ]
  },
  {
   "cell_type": "code",
   "execution_count": 10,
   "id": "6af05ea1-d806-4724-ac88-98409ed3c671",
   "metadata": {},
   "outputs": [],
   "source": [
    "canny_filter = cv2.Canny(img, 50, 240)\n",
    "cv2.imshow(\"Canny filter\", canny_filter)\n",
    "cv2.imshow(\"normal\", img)"
   ]
  },
  {
   "cell_type": "markdown",
   "id": "a5542575-1639-4d6f-9008-115664a7b02e",
   "metadata": {},
   "source": [
    "#Motion blur"
   ]
  },
  {
   "cell_type": "code",
   "execution_count": 11,
   "id": "1850b7c7-aac5-4e07-957f-6031f5180ee8",
   "metadata": {},
   "outputs": [],
   "source": [
    "img = cv2.imread(\"single_tree.jpg\")"
   ]
  },
  {
   "cell_type": "code",
   "execution_count": 12,
   "id": "b26ff952-1450-4670-bdb3-93da4cc04816",
   "metadata": {},
   "outputs": [],
   "source": [
    "img = cv2.resize(img, (img.shape[0] // 4, img.shape[1] // 6))"
   ]
  },
  {
   "cell_type": "code",
   "execution_count": 13,
   "id": "32e3e1e8-6c8d-4461-aeec-aa0db8e160a8",
   "metadata": {},
   "outputs": [],
   "source": [
    "cv2.imshow(\"nature\", img)"
   ]
  },
  {
   "cell_type": "code",
   "execution_count": 14,
   "id": "7f96e11b-a44d-47b8-b338-2075060d3760",
   "metadata": {},
   "outputs": [],
   "source": [
    "for i in range(1,10):\n",
    "    size = i\n",
    "    motion_array = np.zeros((size, size))\n",
    "    motion_array[int((size-1)/2),:] = np.ones(size)\n",
    "    motion_array = motion_array / size\n",
    "\n",
    "    # Applying motion array to the image\n",
    "    motion_image = cv2.filter2D(img, -1, motion_array)\n",
    "    cv2.imshow(\"motion_image\", motion_image)"
   ]
  },
  {
   "cell_type": "markdown",
   "id": "31bc310a-5d00-451d-846c-c28159f0d4ce",
   "metadata": {},
   "source": [
    "#Sharpening"
   ]
  },
  {
   "cell_type": "code",
   "execution_count": 15,
   "id": "27377715-4a50-4eb8-9501-2aef37d0c2b8",
   "metadata": {},
   "outputs": [],
   "source": [
    "img = cv2.imread(\"single_tree.jpg\")"
   ]
  },
  {
   "cell_type": "code",
   "execution_count": 16,
   "id": "34bef1c7-02c6-42af-98ad-4d724e1f0061",
   "metadata": {},
   "outputs": [],
   "source": [
    "cv2.imshow(\"ORIGINAL\", cv2.resize(img, (img.shape[1] // 4, img.shape[0] // 4)))"
   ]
  },
  {
   "cell_type": "code",
   "execution_count": 17,
   "id": "02dbec5f-0366-4b86-a81c-b300560a969e",
   "metadata": {},
   "outputs": [],
   "source": [
    "sharpening_arr = np.array([[-1,-1,-1],\n",
    "                           [-1,9,-1],\n",
    "                           [-1,-1,-1]])"
   ]
  },
  {
   "cell_type": "code",
   "execution_count": 18,
   "id": "f3e6d8d8-41c7-4a60-ad91-e0ea8aa267e5",
   "metadata": {},
   "outputs": [],
   "source": [
    "excessive_arr = np.array([[1,1,1],\n",
    "                          [1,-7,1],\n",
    "                          [1,1,1]])"
   ]
  },
  {
   "cell_type": "code",
   "execution_count": 19,
   "id": "ab49a797-3128-4425-b243-fa73b709158c",
   "metadata": {},
   "outputs": [],
   "source": [
    "edge_enhancements = np.array([[-1,-1,-1,-1,-1],\n",
    "                              [-1,2,2,2,-1],\n",
    "                              [-1,2,8,2,-1],\n",
    "                              [-1,2,2,2,-1],\n",
    "                              [-1,-1,-1,-1,-1]]) / 8"
   ]
  },
  {
   "cell_type": "code",
   "execution_count": 20,
   "id": "adf65d90-206f-469a-b8c7-6f2180cd4060",
   "metadata": {},
   "outputs": [],
   "source": [
    "sharpening_arr_image = cv2.filter2D(img, -1, sharpening_arr)"
   ]
  },
  {
   "cell_type": "code",
   "execution_count": 21,
   "id": "8b1e13ee-48af-43ea-a6a5-57df30c7e2f7",
   "metadata": {},
   "outputs": [],
   "source": [
    "excessive_arr_image = cv2.filter2D(img, -1, excessive_arr)"
   ]
  },
  {
   "cell_type": "code",
   "execution_count": 22,
   "id": "f9234047-bff4-49da-80b9-4f7d1c3abc27",
   "metadata": {},
   "outputs": [],
   "source": [
    "edge_enhancements_image = cv2.filter2D(img, -1, edge_enhancements)"
   ]
  },
  {
   "cell_type": "code",
   "execution_count": 23,
   "id": "f5c69a5d-4482-4b3c-9a40-966382fdbf1c",
   "metadata": {},
   "outputs": [],
   "source": [
    "cv2.imshow(\"SHARPENING\", cv2.resize(sharpening_arr_image, (sharpening_arr_image.shape[1] // 7, sharpening_arr_image.shape[0] // 7)))"
   ]
  },
  {
   "cell_type": "code",
   "execution_count": 24,
   "id": "ea3b141f-97f9-46c7-aa4a-fae89aba6399",
   "metadata": {},
   "outputs": [],
   "source": [
    "cv2.imshow(\"EXCESSIVE\", cv2.resize(excessive_arr_image, (excessive_arr_image.shape[1] // 7, excessive_arr_image.shape[0] // 7)))"
   ]
  },
  {
   "cell_type": "code",
   "execution_count": 25,
   "id": "230ee0a8-734d-4551-923f-ab8203a5496e",
   "metadata": {},
   "outputs": [],
   "source": [
    "cv2.imshow(\"EDGE ENHANCEMENTS\", cv2.resize(edge_enhancements_image, (edge_enhancements_image.shape[1] // 7, edge_enhancements_image.shape[0] // 7)))"
   ]
  },
  {
   "cell_type": "markdown",
   "id": "2f362db6-7253-4880-946f-2796b19b0e6c",
   "metadata": {},
   "source": [
    "#Embossing"
   ]
  },
  {
   "cell_type": "code",
   "execution_count": 26,
   "id": "9a36c1cc-c714-4dce-98f4-92caef4ca7c5",
   "metadata": {},
   "outputs": [],
   "source": [
    "img = cv2.imread(\"building.jpg\")"
   ]
  },
  {
   "cell_type": "code",
   "execution_count": 27,
   "id": "ca31f4bd-172d-428a-9ca5-029e3b231cba",
   "metadata": {},
   "outputs": [],
   "source": [
    "img = cv2.cvtColor(img, cv2.COLOR_BGR2RGB)"
   ]
  },
  {
   "cell_type": "code",
   "execution_count": 28,
   "id": "3236e7ee-9720-4a8f-b6f9-9934d4804681",
   "metadata": {},
   "outputs": [],
   "source": [
    "cv2.imshow(\"original\", cv2.resize(img, (img.shape[1] // 6, img.shape[0] // 6)))"
   ]
  },
  {
   "cell_type": "code",
   "execution_count": 29,
   "id": "359c543b-5abb-47b2-a398-26914f92aa2c",
   "metadata": {},
   "outputs": [],
   "source": [
    "south_west = np.array([[0,-1,-1],\n",
    "                       [1,0,-1],\n",
    "                       [1,1,0]])"
   ]
  },
  {
   "cell_type": "code",
   "execution_count": 30,
   "id": "3993d038-b750-41d5-a3a5-2cf13080ae96",
   "metadata": {},
   "outputs": [],
   "source": [
    "south_east = np.array([[0,1,1],\n",
    "                       [-1,0,1],\n",
    "                       [-1,-1,0]])"
   ]
  },
  {
   "cell_type": "code",
   "execution_count": 31,
   "id": "8074adf1-8b0c-46b2-8088-b654f3d582e2",
   "metadata": {},
   "outputs": [],
   "source": [
    "north_west = np.array([[1,0,0],\n",
    "                       [0,0,0],\n",
    "                       [0,0,-1]])"
   ]
  },
  {
   "cell_type": "code",
   "execution_count": 32,
   "id": "68a2cd00-609b-4da2-879e-8bdf999d02cc",
   "metadata": {},
   "outputs": [],
   "source": [
    "south_west_image = cv2.filter2D(img, -1, south_west) + 128"
   ]
  },
  {
   "cell_type": "code",
   "execution_count": 33,
   "id": "86c8d021-4a1e-4073-9595-f980f4d82388",
   "metadata": {},
   "outputs": [],
   "source": [
    "south_east_image = cv2.filter2D(img, -1, south_east) + 128"
   ]
  },
  {
   "cell_type": "code",
   "execution_count": 34,
   "id": "dd2be3fb-cbdb-4d21-8096-2b5e98b94bbe",
   "metadata": {},
   "outputs": [],
   "source": [
    "north_west_image = cv2.filter2D(img, -1, north_west) + 128"
   ]
  },
  {
   "cell_type": "code",
   "execution_count": 35,
   "id": "8d7f0938-b379-40a3-9b57-ecdaece3ce6d",
   "metadata": {},
   "outputs": [],
   "source": [
    "cv2.imshow(\"SOUTH_WEST\", cv2.resize(south_west_image, (south_west_image.shape[1] // 6, south_west_image.shape[0] // 6)))"
   ]
  },
  {
   "cell_type": "code",
   "execution_count": 36,
   "id": "4a5ffc8f-068c-4327-aade-0a07113c1802",
   "metadata": {},
   "outputs": [],
   "source": [
    "cv2.imshow(\"SOUTH_EAST\", cv2.resize(south_east_image, (south_east_image.shape[1] // 6, south_east_image.shape[0] // 6)))"
   ]
  },
  {
   "cell_type": "code",
   "execution_count": 37,
   "id": "6e614598-1bfd-45b7-98ec-fa6e2d55499f",
   "metadata": {},
   "outputs": [],
   "source": [
    "cv2.imshow(\"NORTH_WEST\", cv2.resize(north_west_image, (north_west_image.shape[1] // 6, north_west_image.shape[0] // 6)))"
   ]
  },
  {
   "cell_type": "markdown",
   "id": "3c2090bf-3ece-47b5-96d5-cf1b73fd8c59",
   "metadata": {},
   "source": [
    "#Vignette filter"
   ]
  },
  {
   "cell_type": "code",
   "execution_count": 38,
   "id": "7fa37cda-4e5e-49cf-ba25-3ff6590a5385",
   "metadata": {},
   "outputs": [],
   "source": [
    "img = cv2.imread('flower.jpg')"
   ]
  },
  {
   "cell_type": "code",
   "execution_count": 39,
   "id": "a99bf28f-e7e7-4319-8076-5f452945289d",
   "metadata": {},
   "outputs": [],
   "source": [
    "img = cv2.resize(img, (img.shape[1] // 6, img.shape[0] // 8))"
   ]
  },
  {
   "cell_type": "code",
   "execution_count": 40,
   "id": "d16e9ec0-6270-4f9a-9aa1-1d12bcc698f2",
   "metadata": {},
   "outputs": [],
   "source": [
    "rows, cols = img.shape[:2]"
   ]
  },
  {
   "cell_type": "code",
   "execution_count": 41,
   "id": "e89f43ab-00c4-475d-8cab-d5c53e58e3dc",
   "metadata": {},
   "outputs": [],
   "source": [
    "y = cv2.getGaussianKernel(int(1.5*rows), 200)"
   ]
  },
  {
   "cell_type": "code",
   "execution_count": 42,
   "id": "50017b85-7c09-49d1-9cf2-4f16e7ab599c",
   "metadata": {},
   "outputs": [],
   "source": [
    "x = cv2.getGaussianKernel(int(1.5*cols), 200)"
   ]
  },
  {
   "cell_type": "code",
   "execution_count": 43,
   "id": "1bf08d18-0555-4d85-97ba-0d8247f5f02e",
   "metadata": {},
   "outputs": [],
   "source": [
    "xy = y * x.T"
   ]
  },
  {
   "cell_type": "code",
   "execution_count": 44,
   "id": "a1b6003a-582d-4763-ad5d-125535bae3af",
   "metadata": {},
   "outputs": [],
   "source": [
    "mask = 255 * xy / np.linalg.norm(xy)"
   ]
  },
  {
   "cell_type": "code",
   "execution_count": 45,
   "id": "daf17b17-1fcd-4a9f-85db-49603e6e66f8",
   "metadata": {},
   "outputs": [],
   "source": [
    "mask = mask[int(0.5*rows):, int(0.5*cols):]"
   ]
  },
  {
   "cell_type": "code",
   "execution_count": 46,
   "id": "613e37c0-3874-44b0-994e-f440d1e535da",
   "metadata": {},
   "outputs": [],
   "source": [
    "output = np.copy(img)"
   ]
  },
  {
   "cell_type": "code",
   "execution_count": 47,
   "id": "892bb6dc-a344-4d61-8789-eae1e2f055fb",
   "metadata": {},
   "outputs": [],
   "source": [
    "for i in range(3):\n",
    "    output[:,:,i] = output[:,:,i] * mask"
   ]
  },
  {
   "cell_type": "code",
   "execution_count": 48,
   "id": "fca21f70-b03f-4aa4-953b-0746a4f4ae8d",
   "metadata": {},
   "outputs": [],
   "source": [
    "cv2.imshow(\"ORIGINAL\", img)"
   ]
  },
  {
   "cell_type": "code",
   "execution_count": 49,
   "id": "ed8e1522-f43c-438a-b79c-07cddaf19f06",
   "metadata": {},
   "outputs": [],
   "source": [
    "cv2.imshow(\"VIGNETTE\", output)"
   ]
  },
  {
   "cell_type": "markdown",
   "id": "daf9b2c7-e72f-42ef-b36a-82ea8616f664",
   "metadata": {},
   "source": [
    "#Contrast"
   ]
  },
  {
   "cell_type": "code",
   "execution_count": 50,
   "id": "87347014-8172-4e99-b1e8-374e736a8787",
   "metadata": {},
   "outputs": [],
   "source": [
    "img = cv2.imread('forContrast2.jpg')"
   ]
  },
  {
   "cell_type": "code",
   "execution_count": 51,
   "id": "d6d50cd4-051d-47a6-ab00-8abb4de4a14d",
   "metadata": {},
   "outputs": [],
   "source": [
    "img_yuv = cv2.cvtColor(img, cv2.COLOR_BGR2YUV)"
   ]
  },
  {
   "cell_type": "code",
   "execution_count": 52,
   "id": "e3431391-57cb-4ee0-a91d-95894c59b28b",
   "metadata": {},
   "outputs": [],
   "source": [
    "img_yuv[:,:,0] = cv2.equalizeHist(img_yuv[:,:,0])"
   ]
  },
  {
   "cell_type": "code",
   "execution_count": 53,
   "id": "9904c686-3eaf-4b34-8435-0e9d618c89b1",
   "metadata": {},
   "outputs": [],
   "source": [
    "output = cv2.cvtColor(img_yuv, cv2.COLOR_YUV2BGR)"
   ]
  },
  {
   "cell_type": "code",
   "execution_count": 54,
   "id": "e12e55e7-e309-4624-ab3e-525a8f1b41a6",
   "metadata": {},
   "outputs": [],
   "source": [
    "cv2.imshow('ORIGINAL', cv2.resize(img, (img.shape[1] // 5, img.shape[0] // 5)))"
   ]
  },
  {
   "cell_type": "code",
   "execution_count": 55,
   "id": "90410149-e0ab-4b78-90d9-add7f4b48ff5",
   "metadata": {},
   "outputs": [
    {
     "ename": "",
     "evalue": "",
     "output_type": "error",
     "traceback": [
      "\u001b[1;31mThe Kernel crashed while executing code in the the current cell or a previous cell. Please review the code in the cell(s) to identify a possible cause of the failure. Click <a href='https://aka.ms/vscodeJupyterKernelCrash'>here</a> for more info. View Jupyter <a href='command:jupyter.viewOutput'>log</a> for further details."
     ]
    }
   ],
   "source": [
    "cv2.imshow('YUV', cv2.resize(output, (output.shape[1] // 5, output.shape[0] // 5)))"
   ]
  },
  {
   "cell_type": "code",
   "execution_count": null,
   "id": "4b23c3a2-1874-4649-97f5-34609e95ecb6",
   "metadata": {},
   "outputs": [],
   "source": []
  },
  {
   "cell_type": "code",
   "execution_count": null,
   "id": "e885b4b5",
   "metadata": {},
   "outputs": [],
   "source": []
  }
 ],
 "metadata": {
  "kernelspec": {
   "display_name": "Python 3 (ipykernel)",
   "language": "python",
   "name": "python3"
  },
  "language_info": {
   "codemirror_mode": {
    "name": "ipython",
    "version": 3
   },
   "file_extension": ".py",
   "mimetype": "text/x-python",
   "name": "python",
   "nbconvert_exporter": "python",
   "pygments_lexer": "ipython3",
   "version": "3.11.2"
  }
 },
 "nbformat": 4,
 "nbformat_minor": 5
}
